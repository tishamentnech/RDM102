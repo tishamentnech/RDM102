{
 "cells": [
  {
   "cell_type": "markdown",
   "metadata": {
    "slideshow": {
     "slide_type": "slide"
    }
   },
   "source": [
    "# Reading the petris: an exploration into belly button bacteria \n",
    "\n",
    "<div style=\"width:25%\"> ![petri dish from bellybutton portrait series](http://robdunnlab.com/wp-content/uploads/microbe_portrait.jpg) </div>\n",
    "\n",
    "\n",
    "\n",
    "## Tisha Mentnech (tee-sha mint-nitch)\n",
    "\n",
    "### Monday April 8th @ 2-3:30PM ET\n",
    "Ricou, J. (2017). Bellybutton Portrait Series. Retrieved 2019, from http://robdunnlab.com/science-portfolio/bellybutton-portrait-series/?portfolioCats=38 "
   ]
  },
  {
   "cell_type": "markdown",
   "metadata": {
    "slideshow": {
     "slide_type": "slide"
    }
   },
   "source": [
    "# Summary of Project\n",
    "\n",
    "> The human body is a very interesting place. One fascinating part of our body is the bacterial cultures that live in our belly buttons. We have data taken from several people showing what types of bacteria live in their belly buttons. We've controlled for several things, and our findings need to be analyzed further. The interplay between human and microbe is what you'll investigate as a part of this study.\n",
    "\n",
    "    \n",
    "\n",
    "\n"
   ]
  },
  {
   "cell_type": "markdown",
   "metadata": {
    "slideshow": {
     "slide_type": "notes"
    }
   },
   "source": [
    "## Data set 1\n",
    "### Data set 1 contains 3 sheets:\n",
    "1. Belly Button Data Matrix\n",
    "2. Belly Button Meta Data Matrix\n",
    "3. Notes\n",
    "\n",
    "\n",
    "- There will be several options for what to look at when analyzing the data. The first sheet contains information on:\n",
    "    -- Frequency in which a Bacteria / Archaea found and within which sample denoted by random sample numbers where n=153\n",
    "- The second sheet contains information on:\n",
    "    --Demographics of participants\n",
    "    \n",
    "## Data set 2 n = 273\n",
    "### Data set 2 contains 3 sheets. \n",
    "1. BBNov_otu_rar1000_L6_no chlor\n",
    "2. Meta data\n",
    "3. Notes\n",
    "\n",
    "Sheet 1 contains more information on the species of the various Bacteria / Archaea found on each participant.  Data set 2 is much easier to read due to the orientation of the different columns and rows data set 1 has opposite columns and headers from data set 2. It is not clear from the data sets why one has more participants than the other. Depending on which data set we do for the project it will determine the different mean, median, and modes. I will focus on the demographics of the participants. It is also possible to count how often the bacteria occur. Data set 2 will also include more specific / condensed information about the different  species which will be easier to read and count / classify. The unclear reason between the participants is an apparent bias of the data. There are also several fields that are null / unfilled. One bias will be how I decide to deal with those. There is also a bias in the data if the participants did not live in the same zipcode for the fields \"where lived from 0-13 and where lived from 13-19\" This probably does not give an accurate view of which environments effect the type of bacteria / archaea growth. Some potential bias from the project history and article is in the methods of rarefaction of the different samples. Some parts claim it was 400 reads per sample and the other data in sets 1 and 2 claim 1000 reads. This will provide different determiniations of species. Also the paper only reports 60 samples when they have somewhere between 153 and 273. Their blog mentions that they will be doing different analysis of the samples which will increase over time which would give reason to the different numbers. One question that I have is what will be the data set we use for this project?\n",
    "\n",
    "## Data set 3\n",
    "There is also a third data set that is mentioned in the publication. [Data set from article](https://ndownloader.figshare.com/files/292280) It appears that the 3rd data set is a early version of data sets 1 and 2. \n",
    "\n",
    "\n",
    "    \n"
   ]
  },
  {
   "cell_type": "markdown",
   "metadata": {
    "slideshow": {
     "slide_type": "slide"
    }
   },
   "source": [
    "### Research Question\n",
    "##### I didn't have one until I wrangled my data! \n",
    "\n",
    "![Penelope Garcia struggling to find an answer](https://media.giphy.com/media/xT8qAYK2m79N91ikzm/giphy.gif)\n"
   ]
  },
  {
   "cell_type": "markdown",
   "metadata": {
    "slideshow": {
     "slide_type": "slide"
    }
   },
   "source": [
    "![examining data on laptop](https://media.giphy.com/media/l46Cy1rHbQ92uuLXa/giphy.gif)\n",
    "## After some round about work with wrangling my data I settled on: How does the gender of the participant affect the type of bacteria found in their belly button?\""
   ]
  },
  {
   "cell_type": "markdown",
   "metadata": {
    "slideshow": {
     "slide_type": "notes"
    }
   },
   "source": [
    "I struggled a lot with the data wrangling. With how the data are formatted, I could not find a way using OpenRefine to do what I needed or was set on doing. I ended up having to use Excel. I spent way too much time trying to figure out how to merge the two data sets and then finding a way to clean them that didn’t' take up too much time. I ended up spending about 25 hours cleaning data including the fail attempts to figure out how to do what I needed to in OpenRefine. Had I planned better and spent more time examining my data before trying to wrangle it, I could probably guarantee that I would not have had the same strenuous outcome."
   ]
  },
  {
   "cell_type": "markdown",
   "metadata": {
    "slideshow": {
     "slide_type": "slide"
    }
   },
   "source": [
    "# Exploratory Analysis\n",
    "\n",
    "I had 3 data sets to pick from. There was a way to merge them all together and clean that way however, I was spending too much time spinning my wheels so I settled on using one data set. [(Hulcr, Jiri, Andrew M. Latimer, Jessica B. Henley, Nina R. Rountree, Noah Fierer, Andrea Lucky, Margaret D. Lowman, and Robert R. Dunn., 2012) Belly Button Biodiversity Data_17Nov12.xslx](http://robdunnlab.com/wp-content/uploads/Belly-Button-Biodiversity-Data_17Nov12.xlsx.zip) \n",
    "\n",
    "This data contained 3 sheets within the file\n",
    "1. Belly Button Data Matrix\n",
    "2. Belly Button Meta Data Matrix\n",
    "3. Notes"
   ]
  },
  {
   "cell_type": "markdown",
   "metadata": {
    "slideshow": {
     "slide_type": "subslide"
    }
   },
   "source": [
    "## Contents:\n",
    "\n",
    "Sheet 1 was organized with the top row being the sample number that cooresponded to a participant from that collection period, n=153. The first column was the \"Lowest Taxonomic Level of Bacteria/Archaea Found\"\n",
    "\n",
    "Lowest Taxonomic Level of Bacteria/Archaea Found | 940 | 941 | 942\n",
    "-------------------------------| ---- | --- |------\n",
    "Archaea;Euryarchaeota;Halobacteria;Halobacteriales;Halobacteriaceae;Halococcus | 0 | 0 | 0\n",
    "Archaea;Euryarchaeota;Halobacteria;Halobacteriales;Halobacteriaceae;Halococcus | 0 | 0 | 0\n",
    "Archaea;Euryarchaeota;Halobacteria;Halobacteriales;Halobacteriaceae;Natronorubrum | 0 | 0 | 0\n",
    "\n",
    "\n",
    "This continued on for 3674 rows and 153 columns.\n",
    "\n",
    "\n"
   ]
  },
  {
   "cell_type": "markdown",
   "metadata": {
    "slideshow": {
     "slide_type": "subslide"
    }
   },
   "source": [
    "# Assumptions:\n",
    "\n",
    "The second sheet in the file contained the data about the participants. This contains the following fields:\n",
    "\n",
    "field title | values by participant\n",
    "--- | ---\n",
    "Data | x\n",
    "Collection event | x\n",
    "Ethnicity | x\n",
    "Gender (male/female) | x\n",
    "Age (in years) |  x\n",
    "Washing Frequency (belly button scrubs per week) | x\n",
    "Innie or Outtie? | x\n",
    "City and State in which participant lived at time of sampling | x\n",
    "Country in which participant lived from age 0 to 12 | x\n",
    "Zip code in which participant lived from age 0 to 12 | x\n",
    "Country in which participant lived from age 13 to 19 | x\n",
    "Zip code in which participant lived from age 13 to 19 | x\n",
    "Do you Currently Live with a Dog (yes or no)? | x\n",
    "Do you Currently Live with a Cat (yes or no)? | x\n",
    "Impervious surface (such as cement) in center of zipcode where participant lived from 0 to 13 | x\n",
    "Net Primary Productivity in center of zipcode where participant lived from 0 to 13 | x\n",
    "Mean maximum monthly temperature in center of zipcode where participant lived from 0 to 13 | x\n",
    "Percent Forest Cover in center of zipcode where participant lived from 0 to 13 | x\n",
    "Impervious surface (such as cement) in center of zipcode where participant lived from 13 to 19 | x\n",
    "Net Primary Productivity Impervious surface (such as cement) in center of zipcode where participant lived from 13 to 19 | x\n",
    "Mean maximum monthly temperaturein center of zipcode where participant lived from 13 to 19 | x\n",
    "Percent Forest Cover in center of zipcode where participant lived from 13 to 19 | x"
   ]
  },
  {
   "cell_type": "markdown",
   "metadata": {
    "slideshow": {
     "slide_type": "subslide"
    }
   },
   "source": [
    "By using these contents it was clear to see that there were more female n=93 participants than male n=60. This will be something that skews the amount of data collected so there will be more bacteria present because there are 33 more participants. Many of the elements felt like outliners because not all bacteria was going to be present in each person so some only had one time of bacteria present and the rest of the row would be all zeros where another participant may have as many as 10 different types of bacteria ranging from 1 - 300 read numbers. \n",
    "\n",
    "Some additional issues that are present in the data from the notes sheet in the file: \"Taxonomies reflect the lowest taxonomic level to which samples could be given a name. If samples were so different from existing samples as to not readily be classified they are simply labeled \"bacteria\" reflecting that they were different from everything we know.\" There were also 5 fields classified as unknown which is not something that can be determined."
   ]
  },
  {
   "cell_type": "markdown",
   "metadata": {
    "slideshow": {
     "slide_type": "fragment"
    }
   },
   "source": [
    "*A note about reading / rarefaction: \"Rarefaction  is  a  method  that  adjusts  for  differences  in  library  sizes  across samples to aid the comparison of diversity.\" (Willis, A. (2017). Rarefaction, alpha diversity, and statistics. BioRxiv, 231878. https://doi.org/10.1101/231878)*"
   ]
  },
  {
   "cell_type": "markdown",
   "metadata": {
    "slideshow": {
     "slide_type": "slide"
    }
   },
   "source": [
    "## Data Wrangling \n",
    "\n",
    "I'm definitely embarrassed that I could not get my data wrangling to work the way I wanted to in OpenRefine. I do not have an easily (or maybe at all?) reproducible data cleaning workflow for my work on this data set. \n",
    "\n",
    "#### Process for cleaning:\n",
    "Preface: The way I wanted to clean my data was a way to merge the similar bacteria phenotypes because they are listed multiple times for each participant. By merging and added the amount in the different cells. I was not able to figure out how to do this in OpenRefine. If anyone knows how, please let me know.\n",
    "\n",
    " \n",
    "01. I did add the larger spreadsheet in OpenRefine to facet by groups to help with the work with the spreadsheet.\n",
    "02. Upload working data in a new spreadsheet of only the large data sheet without metadata and notes sheet.\n",
    "03. Convert the sheet into a table for filtering and editing.\n",
    "04. Use the facets by number to identify the large groups as you work through consolidation.\n",
    "05. Once filtered by largest phenotype to smaller phenotype. Use this formula to add all values in a row by participant =SUM(cell:cell) at the bottom of the column to create a new row of the merged / added values for that specific phenotype. \n",
    "06. Once this is done for the column you can either formulas into adjacent cells by using the fill handle across the row or You can also press Ctrl+R to fill the formula to the right in a row. First select the cell that has the formula you want to fill, then select the cells to the right of it, and then press Ctrl+R.  \n",
    "07. After you've completed the formula across the row you can then copy the title of the phenotype into the new row of added values. \n",
    "08. To ensure that you are not contingent on the mathematical formula and those cells you can copy that row of values with the phenotype and then re-paste that into a new sheet. When doing this you want to make sure that you paste the values only. This will need to be done by using the drop down paste button in the toolbar and selecting paste values.\n",
    "09. This step is repeated until you get down the list of facets that there are only 1 left of that facet.\n",
    "10. Once you are to the list of facets with the single appearance you can copy and paste those values into the new sheet of the value only sheet.\n",
    "\n",
    "This is as tedious as a process as it sounds.\n",
    "\n",
    "The final product of consolidation contains 333 rows and 154 columns. \n"
   ]
  },
  {
   "cell_type": "markdown",
   "metadata": {
    "slideshow": {
     "slide_type": "subslide"
    }
   },
   "source": [
    "## Continued analysis \n",
    "\n",
    " \n",
    "Presence of Bacteria (amount of each phenotype) | valuesFemale | valuesMale\n",
    "---- | ---- | --- \n",
    "Average | 208.98 | 121.03\n",
    "Minimum |  0 | 0\n",
    "Maximum | 9874 | 9858\n",
    "Median | 4 | 3\n",
    "Mode | 0 | 0\n",
    "\n",
    "\n",
    "Amount of bacteria (found in each individual) | valuesFemale | valuesMale\n",
    "---- | ---- | --- \n",
    "Average\t| 746.02 | 669.68\n",
    "Minimum | 1 | 0\n",
    "Maximum | 2536 | 1678\n",
    "Median | 701 | 628.5\n",
    "Mode | 580 | N/A\n",
    "\t\t\t\t\t\t\t\t\t\t\t\t\t\t\t\t\n",
    "\t"
   ]
  },
  {
   "cell_type": "markdown",
   "metadata": {
    "slideshow": {
     "slide_type": "slide"
    }
   },
   "source": [
    "## Visualization\n",
    "\n",
    "<img src=\"maleBB.png\" width=\"800\" height=\"160\" alt=\"Top 5 Phenotypes of bacteria found in males\">"
   ]
  },
  {
   "cell_type": "markdown",
   "metadata": {
    "slideshow": {
     "slide_type": "notes"
    }
   },
   "source": [
    "For my visualizations, I wanted to highlight my research question. It was clear that things did end up having a larger scale for females than males. I was wrong in my hypothesis thinking that there would be different bacteria based of the sex of an individual, the top 10 for each ended up being the same phenotypes of bacteria just in different quantities. I would really like to spend even more time working with the data and visualizing it further to see what other trends or lack thereof I can find."
   ]
  },
  {
   "cell_type": "markdown",
   "metadata": {
    "slideshow": {
     "slide_type": "subslide"
    }
   },
   "source": [
    "<img src=\"femaleBB.png\" width=\"800\" height=\"160\" alt=\"Top 5 Phenotypes of bacteria found in females\">"
   ]
  },
  {
   "cell_type": "markdown",
   "metadata": {
    "slideshow": {
     "slide_type": "subslide"
    }
   },
   "source": [
    "![Top 10 Bacteria per sex](top10BacteriaFM.png)"
   ]
  },
  {
   "cell_type": "markdown",
   "metadata": {
    "slideshow": {
     "slide_type": "slide"
    }
   },
   "source": [
    "# Reflections\n",
    "### I have really enjoyed this class. It was really rewarding to do this in depth data analysis and working with a data set. I have not had something that I have spent this much time on in quite a bit and it was great to be immersed in the process for so long. I have really loved working more with Jupyter. I keep looking for ways to use this more in my own life.\n"
   ]
  },
  {
   "cell_type": "markdown",
   "metadata": {
    "slideshow": {
     "slide_type": "slide"
    }
   },
   "source": [
    "\n",
    "![super mario thank you](https://media.giphy.com/media/13qctMBrrgbwJi/giphy.gif)\n"
   ]
  }
 ],
 "metadata": {
  "celltoolbar": "Slideshow",
  "kernelspec": {
   "display_name": "Python 3",
   "language": "python",
   "name": "python3"
  },
  "language_info": {
   "codemirror_mode": {
    "name": "ipython",
    "version": 3
   },
   "file_extension": ".py",
   "mimetype": "text/x-python",
   "name": "python",
   "nbconvert_exporter": "python",
   "pygments_lexer": "ipython3",
   "version": "3.6.5"
  }
 },
 "nbformat": 4,
 "nbformat_minor": 2
}
